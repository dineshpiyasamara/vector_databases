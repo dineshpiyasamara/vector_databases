{
  "cells": [
    {
      "cell_type": "markdown",
      "metadata": {
        "id": "LnIX9RCOCwtG"
      },
      "source": [
        "## Install necessary libraries"
      ]
    },
    {
      "cell_type": "code",
      "execution_count": null,
      "metadata": {
        "id": "xHSnljexzuQ4"
      },
      "outputs": [],
      "source": [
        "!pip install sentence_transformers -q\n",
        "!pip install pinecone-client -q"
      ]
    },
    {
      "cell_type": "markdown",
      "metadata": {
        "id": "oTLYNsYgC3Z9"
      },
      "source": [
        "## Load data"
      ]
    },
    {
      "cell_type": "code",
      "execution_count": null,
      "metadata": {
        "id": "4selX5VWvqjF"
      },
      "outputs": [],
      "source": [
        "cricket_news = \"\"\"\n",
        "The T20 World Cup 2024 is in full swing, bringing excitement and drama to cricket fans worldwide.\n",
        "India's team, captained by Rohit Sharma, is preparing for a crucial match against Ireland, with standout player Jasprit Bumrah expected to play a pivotal role in their campaign.\n",
        "The tournament has already seen controversy, particularly concerning the pitch conditions at Nassau County International Cricket Stadium in New York, which came under fire after a low-scoring game between Sri Lanka and South Africa.\n",
        "\"\"\"\n",
        "\n",
        "football_news = \"\"\"\n",
        "The world of football is buzzing with excitement as major tournaments and league matches continue to captivate fans globally.\n",
        "In the UEFA Champions League, the semi-final matchups have been set, with defending champions Real Madrid set to face Manchester City, while Bayern Munich will take on Paris Saint-Germain.\n",
        "Both ties promise thrilling encounters, featuring some of the best talents in world football.\n",
        "\"\"\"\n",
        "\n",
        "election_news = \"\"\"\n",
        "As election season heats up, the latest developments reveal a highly competitive atmosphere across several key races.\n",
        "The presidential election has seen intense campaigning from all major candidates, with recent polls indicating a tight race.\n",
        "Incumbent President Jane Doe is seeking re-election on a platform of economic stability and healthcare reform, while her main rival, Senator John Smith, focuses on education and climate change initiatives.\"\"\"\n",
        "\n",
        "\n",
        "ai_revolution_news = \"\"\"\n",
        "The AI revolution continues to transform industries and reshape the global economy.\n",
        "Significant advancements in artificial intelligence have led to breakthroughs in healthcare, with AI-driven diagnostics improving patient outcomes and reducing costs.\n",
        "Autonomous systems are becoming increasingly prevalent in logistics and transportation, enhancing efficiency and safety.\"\"\""
      ]
    },
    {
      "cell_type": "markdown",
      "metadata": {
        "id": "lwAcnySKC---"
      },
      "source": [
        "## Perform embeddings on data"
      ]
    },
    {
      "cell_type": "code",
      "execution_count": null,
      "metadata": {
        "id": "7j1maMy7zosQ"
      },
      "outputs": [],
      "source": [
        "from sentence_transformers import SentenceTransformer\n",
        "\n",
        "embedding_model = SentenceTransformer(\"all-mpnet-base-v2\")"
      ]
    },
    {
      "cell_type": "code",
      "execution_count": null,
      "metadata": {
        "id": "BbBayqMVzsBJ"
      },
      "outputs": [],
      "source": [
        "embeddings = embedding_model.encode([cricket_news, football_news, election_news, ai_revolution_news])"
      ]
    },
    {
      "cell_type": "code",
      "execution_count": null,
      "metadata": {
        "id": "qtIMzPmI0WR_"
      },
      "outputs": [],
      "source": [
        "embeddings"
      ]
    },
    {
      "cell_type": "code",
      "execution_count": null,
      "metadata": {
        "id": "OCJEiofm0Xwf"
      },
      "outputs": [],
      "source": [
        "len(embeddings[0])"
      ]
    },
    {
      "cell_type": "markdown",
      "metadata": {
        "id": "EOopLidDDQz9"
      },
      "source": [
        "## Initiate Pinecone"
      ]
    },
    {
      "cell_type": "code",
      "execution_count": null,
      "metadata": {
        "id": "lt05pQro0awG"
      },
      "outputs": [],
      "source": [
        "from pinecone import Pinecone\n",
        "from pinecone import ServerlessSpec\n",
        "\n",
        "pc = Pinecone(api_key=\"\")\n",
        "spec = ServerlessSpec(cloud='aws', region='us-east-1')"
      ]
    },
    {
      "cell_type": "markdown",
      "metadata": {
        "id": "XeB2ECfrDXWc"
      },
      "source": [
        "## Create Index"
      ]
    },
    {
      "cell_type": "code",
      "execution_count": null,
      "metadata": {
        "id": "1GYarmmc0yBU"
      },
      "outputs": [],
      "source": [
        "pc.create_index(\"example-index\", dimension=768, metric=\"cosine\", spec=spec)"
      ]
    },
    {
      "cell_type": "code",
      "execution_count": null,
      "metadata": {
        "id": "ycJR1Rp32-gF"
      },
      "outputs": [],
      "source": [
        "pc.list_indexes()"
      ]
    },
    {
      "cell_type": "markdown",
      "metadata": {
        "id": "I-VOC-1MDgCW"
      },
      "source": [
        "## Use Index"
      ]
    },
    {
      "cell_type": "code",
      "execution_count": null,
      "metadata": {
        "id": "oDeX04WZ1UXk"
      },
      "outputs": [],
      "source": [
        "index = pc.Index(\"example-index\")"
      ]
    },
    {
      "cell_type": "code",
      "execution_count": null,
      "metadata": {
        "id": "Il-lgEuS27TW"
      },
      "outputs": [],
      "source": [
        "index.describe_index_stats()"
      ]
    },
    {
      "cell_type": "markdown",
      "metadata": {
        "id": "3zA67R2FDyNM"
      },
      "source": [
        "## Add data to Pinecone Index"
      ]
    },
    {
      "cell_type": "code",
      "execution_count": null,
      "metadata": {
        "id": "gP8C4QWP3Ua2"
      },
      "outputs": [],
      "source": [
        "index.upsert([\n",
        "    {\"id\":\"id1\", \"values\":embeddings[0], \"metadata\":{'source': 'cricket'}},\n",
        "    {\"id\":\"id2\", \"values\":embeddings[1], \"metadata\":{'source': 'football'}},\n",
        "    {\"id\":\"id3\", \"values\":embeddings[2], \"metadata\":{'source': 'election'}},\n",
        "    {\"id\":\"id4\", \"values\":embeddings[3], \"metadata\":{'source': 'ai_revolution'}}\n",
        "])"
      ]
    },
    {
      "cell_type": "code",
      "execution_count": null,
      "metadata": {
        "id": "Ku-54N824ehg"
      },
      "outputs": [],
      "source": [
        "index.describe_index_stats()"
      ]
    },
    {
      "cell_type": "markdown",
      "metadata": {
        "id": "bvNp3JTjD_dT"
      },
      "source": [
        "## Similarity Search"
      ]
    },
    {
      "cell_type": "code",
      "execution_count": null,
      "metadata": {
        "id": "HI47j-v06Rmw"
      },
      "outputs": [],
      "source": [
        "query = \"technology\"\n",
        "query_embedding = embedding_model.encode(query).tolist()"
      ]
    },
    {
      "cell_type": "code",
      "execution_count": null,
      "metadata": {
        "id": "Mafh2dxv6vOr"
      },
      "outputs": [],
      "source": [
        "len(query_embedding)"
      ]
    },
    {
      "cell_type": "code",
      "execution_count": null,
      "metadata": {
        "id": "F2DkebGA6tMT"
      },
      "outputs": [],
      "source": [
        "similar_docs = index.query(vector=query_embedding, top_k=2, include_metadata=True)\n",
        "similar_docs"
      ]
    },
    {
      "cell_type": "markdown",
      "metadata": {
        "id": "uoDvALjr7G2K"
      },
      "source": [
        "## CRUD operations on Vector Database"
      ]
    },
    {
      "cell_type": "markdown",
      "metadata": {
        "id": "PAHwaLYY7JN7"
      },
      "source": [
        "#### Add data"
      ]
    },
    {
      "cell_type": "code",
      "execution_count": null,
      "metadata": {
        "id": "90r4ouR960AN"
      },
      "outputs": [],
      "source": [
        "blockchain_news = \"\"\"\n",
        "The blockchain industry continues to evolve rapidly, marked by significant technological advancements and regulatory developments.\n",
        "This month, the spotlight is on the launch of Ethereum 3.0, which promises enhanced scalability and security features.\n",
        "This upgrade is expected to drastically reduce transaction fees and increase processing speeds, making decentralized applications (dApps) more efficient and user-friendly.\n",
        "\"\"\""
      ]
    },
    {
      "cell_type": "code",
      "execution_count": null,
      "metadata": {
        "id": "-vvVfCGz7d0L"
      },
      "outputs": [],
      "source": [
        "embedding_query = embedding_model.encode(blockchain_news).tolist()"
      ]
    },
    {
      "cell_type": "code",
      "execution_count": null,
      "metadata": {
        "id": "vWBXB9uX7t6K"
      },
      "outputs": [],
      "source": [
        "index.describe_index_stats()"
      ]
    },
    {
      "cell_type": "code",
      "execution_count": null,
      "metadata": {
        "id": "9ipjZMOq7M7L"
      },
      "outputs": [],
      "source": [
        "index.upsert([{\"id\":\"id5\", \"values\":embedding_query, \"metadata\":{\"source\":\"blockchain\"}}])"
      ]
    },
    {
      "cell_type": "code",
      "execution_count": null,
      "metadata": {
        "id": "r9O88t5072QG"
      },
      "outputs": [],
      "source": [
        "index.describe_index_stats()"
      ]
    },
    {
      "cell_type": "code",
      "execution_count": null,
      "metadata": {
        "id": "D02TA8OV8Ioy"
      },
      "outputs": [],
      "source": [
        "query_embedding = embedding_model.encode(\"technology\").tolist()\n",
        "similar_docs = index.query(vector=query_embedding, top_k=2, include_metadata=True)\n",
        "similar_docs"
      ]
    },
    {
      "cell_type": "markdown",
      "metadata": {
        "id": "AWsdIhr_8nSR"
      },
      "source": [
        "#### Read data"
      ]
    },
    {
      "cell_type": "code",
      "execution_count": null,
      "metadata": {
        "id": "kka9GvZA8V0Y"
      },
      "outputs": [],
      "source": [
        "results = index.fetch(ids=['id1', 'id3'])"
      ]
    },
    {
      "cell_type": "code",
      "execution_count": null,
      "metadata": {
        "id": "RysAYZax80o3"
      },
      "outputs": [],
      "source": [
        "for k in results[\"vectors\"]:\n",
        "  print(results[\"vectors\"][k]['metadata'])"
      ]
    },
    {
      "cell_type": "markdown",
      "metadata": {
        "id": "th0crJYw_1on"
      },
      "source": [
        "#### Update data"
      ]
    },
    {
      "cell_type": "code",
      "execution_count": null,
      "metadata": {
        "id": "yxBUYstq-ZLy"
      },
      "outputs": [],
      "source": [
        "embedding_query = embedding_model.encode(\"This is sample document about generative AI\").tolist()\n",
        "index.upsert([(\"id3\", embedding_query, {\"source\":\"gen ai\"})])"
      ]
    },
    {
      "cell_type": "code",
      "execution_count": null,
      "metadata": {
        "id": "owODvy0TAkqa"
      },
      "outputs": [],
      "source": [
        "index.fetch(ids=['id3'])"
      ]
    },
    {
      "cell_type": "markdown",
      "metadata": {
        "id": "79DGr3INBx-W"
      },
      "source": [
        "#### Delete data"
      ]
    },
    {
      "cell_type": "code",
      "execution_count": null,
      "metadata": {
        "id": "1oqh_Y3eCDc6"
      },
      "outputs": [],
      "source": [
        "index.fetch(ids=['id2'])"
      ]
    },
    {
      "cell_type": "code",
      "execution_count": null,
      "metadata": {
        "id": "w8_ADUHQBW0m"
      },
      "outputs": [],
      "source": [
        "index.delete(ids=['id2'])"
      ]
    },
    {
      "cell_type": "code",
      "execution_count": null,
      "metadata": {
        "id": "6N-pt2XOCGhf"
      },
      "outputs": [],
      "source": [
        "index.fetch(ids=['id2'])"
      ]
    },
    {
      "cell_type": "markdown",
      "metadata": {
        "id": "DhGAOVmiO9dJ"
      },
      "source": [
        "## Delete Pinecone Index"
      ]
    },
    {
      "cell_type": "code",
      "execution_count": null,
      "metadata": {
        "id": "OecQsHwZCObj"
      },
      "outputs": [],
      "source": [
        "pc.delete_index('example-index')"
      ]
    }
  ],
  "metadata": {
    "colab": {
      "provenance": []
    },
    "kernelspec": {
      "display_name": "Python 3",
      "name": "python3"
    },
    "language_info": {
      "name": "python"
    }
  },
  "nbformat": 4,
  "nbformat_minor": 0
}
